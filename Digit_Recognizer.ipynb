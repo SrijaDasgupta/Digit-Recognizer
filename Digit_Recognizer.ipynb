{
  "nbformat": 4,
  "nbformat_minor": 0,
  "metadata": {
    "colab": {
      "provenance": [],
      "mount_file_id": "11qH3MIA1Sq7WuD1FiQa2CHt3xRpnAJOP",
      "authorship_tag": "ABX9TyPCHn3cspK+9CD0HHqseT3n",
      "include_colab_link": true
    },
    "kernelspec": {
      "name": "python3",
      "display_name": "Python 3"
    },
    "language_info": {
      "name": "python"
    }
  },
  "cells": [
    {
      "cell_type": "markdown",
      "metadata": {
        "id": "view-in-github",
        "colab_type": "text"
      },
      "source": [
        "<a href=\"https://colab.research.google.com/github/SrijaDasgupta/Digit-Recognizer/blob/main/Digit_Recognizer.ipynb\" target=\"_parent\"><img src=\"https://colab.research.google.com/assets/colab-badge.svg\" alt=\"Open In Colab\"/></a>"
      ]
    },
    {
      "cell_type": "code",
      "source": [
        "cd/content/drive/MyDrive/digit-recognizer"
      ],
      "metadata": {
        "colab": {
          "base_uri": "https://localhost:8080/"
        },
        "id": "bDChK_lrsTqv",
        "outputId": "fa5b74f7-11d4-4b8a-eb0e-a9be2c181da1"
      },
      "execution_count": 1,
      "outputs": [
        {
          "output_type": "stream",
          "name": "stdout",
          "text": [
            "/content/drive/MyDrive/digit-recognizer\n"
          ]
        }
      ]
    },
    {
      "cell_type": "code",
      "execution_count": 2,
      "metadata": {
        "id": "kAhteuj9pQ6O"
      },
      "outputs": [],
      "source": [
        "import tensorflow as tf\n",
        "import numpy as np\n",
        "import pandas as pd\n",
        "\n",
        "\n",
        "from sklearn.model_selection import train_test_split\n",
        "from tensorflow.keras.regularizers import l2\n",
        "from tensorflow.keras import layers\n",
        "from tensorflow.keras.models import Model\n",
        "from tensorflow.keras.layers import BatchNormalization,Dense,Conv2D,Input,MaxPooling2D,Dropout,Flatten,Add\n",
        "from tensorflow.keras.optimizers import Adam"
      ]
    },
    {
      "cell_type": "code",
      "source": [
        "train = pd.read_csv('/content/drive/MyDrive/digit-recognizer/train.csv') # read training dataframe"
      ],
      "metadata": {
        "id": "kS7hkdbHpoXl"
      },
      "execution_count": 3,
      "outputs": []
    },
    {
      "cell_type": "code",
      "source": [
        "X = train.iloc[:,1:].values  # set training data\n",
        "y = train.iloc[:,0].values # set training labels\n",
        "X = X.reshape(-1,28,28,1) # reshape into a format that can be fed into our NN\n",
        "X = X / 255 # normalize our training data\n",
        "X_train, X_valid, y_train, y_valid = train_test_split(X, y, test_size=0.2, random_state=42) # split data into training and validation"
      ],
      "metadata": {
        "id": "XaB-IobFpoaY"
      },
      "execution_count": 4,
      "outputs": []
    },
    {
      "cell_type": "code",
      "source": [
        "inputs = Input((28,28,1))\n",
        "              \n",
        "x = Conv2D(filters = 32, kernel_size = 5, strides = 1, activation = 'relu' , kernel_regularizer=tf.keras.regularizers.l2(0.0005))(inputs)\n",
        "x = Conv2D(filters = 32, kernel_size = 5, strides = 1, use_bias=False,activation='relu')(x)\n",
        "x = BatchNormalization()(x)\n",
        "x = MaxPooling2D(strides = 2)(x)\n",
        "x = Dropout(0.3)(x)\n",
        "\n",
        "x = Conv2D(filters = 64, kernel_size = 3, strides = 1, activation = 'relu', kernel_regularizer=l2(0.0005))(x)\n",
        "x = Conv2D(filters = 64, kernel_size = 3, strides = 1, use_bias=False,activation='relu')(x)\n",
        "x = BatchNormalization()(x)\n",
        "x = MaxPooling2D(strides = 2)(x)\n",
        "x = Dropout(0.3)(x)\n",
        "    \n",
        "    \n",
        "x = Flatten()(x)\n",
        "x = Dense(units = 256, use_bias=False,activation='relu')(x)\n",
        "x = BatchNormalization()(x)\n",
        "\n",
        "x = Dense(units = 128, use_bias=False,kernel_regularizer=l2(0.0005),activation='relu')(x)\n",
        "x = BatchNormalization()(x)\n",
        "\n",
        "x1 = Dense(units = 84, use_bias=False,kernel_regularizer=l2(0.0005),activation='relu')(x)\n",
        "x = BatchNormalization()(x1)\n",
        "x2 = Dropout(0.3)(x)\n",
        "x = tf.keras.layers.Add()([x1,x2])\n",
        "\n",
        "outputs = Dense(units = 10, activation = 'softmax')(x)\n",
        "model1 = Model(inputs=inputs, outputs=outputs)"
      ],
      "metadata": {
        "id": "gJixUuOapocg"
      },
      "execution_count": 5,
      "outputs": []
    },
    {
      "cell_type": "code",
      "source": [
        "def scheduler(epoch, lr):\n",
        "    \n",
        "    if epoch < 10:\n",
        "        return lr\n",
        "    else:\n",
        "        return lr * tf.math.exp(-0.1)\n",
        "    \n",
        "callback = tf.keras.callbacks.LearningRateScheduler(scheduler) # set the callback to our scheduler function"
      ],
      "metadata": {
        "id": "Fio4FpqSpofE"
      },
      "execution_count": 6,
      "outputs": []
    },
    {
      "cell_type": "code",
      "source": [
        "model1.compile(loss='sparse_categorical_crossentropy', metrics=['accuracy'], optimizer= tf.keras.optimizers.Adam(learning_rate=0.01))\n",
        "r = model1.fit(X,y,epochs=50,callbacks=callback,validation_data=(X_valid, y_valid))"
      ],
      "metadata": {
        "id": "qCpURZGhuf7l"
      },
      "execution_count": null,
      "outputs": []
    },
    {
      "cell_type": "code",
      "source": [
        "import tensorflow as tf\n",
        "\n",
        "class CustomLoss(Loss):\n",
        "\n",
        "    def __init__(self)\n",
        "        super.__init__()\n",
        "\n",
        "\n",
        "    def call(y_true, y_pred):\n",
        "        squared_difference = tf.square(y_true - y_pred)\n",
        "        return tf.reduce_mean(squared_difference, axis=-1)"
      ],
      "metadata": {
        "id": "V_3QmJjoujgu"
      },
      "execution_count": null,
      "outputs": []
    },
    {
      "cell_type": "code",
      "source": [
        "class CustomDense(Layer):\n",
        "    def __init__(self, units):\n",
        "        super().__init__()\n",
        "        self.units = units\n",
        "\n",
        "\n",
        "    def build(self, input_shape): # Creates the weights of the layer\n",
        "        w_init = tf.random_normal_initializer()\n",
        "        self.w = tf.Variable(name='kernel',\n",
        "                 initial_value = w_init(shape=(input_shape[-1], self.units), dtype='float32'),\n",
        "                 trainable=True)\n",
        "\n",
        "        b_init = tf.zeros_initializer()\n",
        "        self.b = tf.Variable(initial_value=b_init(shape=(self.units,), dtype='float32'),\n",
        "        trainable=True)\n",
        "\n",
        "\n",
        "    def call(self, inputs): # Defines the computation from the inputs to the outputs\n",
        "         return tf.matmul(inputs, self.w) + self.b"
      ],
      "metadata": {
        "id": "sQOTfmF7pomr"
      },
      "execution_count": null,
      "outputs": []
    },
    {
      "cell_type": "code",
      "source": [
        "class DetectOverfittingCallback(tf.keras.callbacks.Callback):\n",
        "    def __init__(self, units):\n",
        "        super().__init__()\n",
        "        self.threshold = threshold\n",
        "\n",
        "\n",
        "    def on_epoch_end(self, epoch, log=None): # Creates the weights of the layer\n",
        "        ratio = logs['val_loss'] / logs['loss']\n",
        "        print(f'Epoch: {epoch}, Val/Train loss ratio: {ratio}')\n",
        "\n",
        "        if ratio>threshold:\n",
        "            print('Training stopped')\n",
        "            self.model.stop_training = True"
      ],
      "metadata": {
        "id": "1L95gpsSpopS"
      },
      "execution_count": null,
      "outputs": []
    },
    {
      "cell_type": "code",
      "source": [
        "import tensorflow as tf\n",
        "\n",
        "class MyModel(tf.keras.Model):\n",
        "\n",
        "    def __init__(self):\n",
        "    super().__init__()\n",
        "    self.dense1 = tf.keras.layers.Dense(16, activation='relu',input_shape=(784,))\n",
        "    self.dense2 = tf.keras.layers.Dense(32, activation='softmax')\n",
        "\n",
        "    def call(self, inputs, training=False):\n",
        "    x = self.dense1(inputs,training=training)\n",
        "    return self.dense2(x)\n",
        "\n",
        "model = MyModel()"
      ],
      "metadata": {
        "id": "S8Bos5D0posG"
      },
      "execution_count": null,
      "outputs": []
    },
    {
      "cell_type": "code",
      "source": [
        "class ConvBlock(tf.keras.layers.Layer):\n",
        "    def __init__(self, filters, kernel_size):\n",
        "        super().__init__()\n",
        "\n",
        "        self.conv1 = Conv2D(filters, kernel_size, padding='same',activation='relu',kernel_regularizer=tf.keras.regularizers.l2(0.0005))\n",
        "        self.conv2 = Conv2D(filters, kernel_size, padding='same',activation='relu')\n",
        "        self.batchnorm = BatchNormalization()\n",
        "        self.maxpool = MaxPooling2D(strides = 2)\n",
        "        self.dropout = Dropout(0.3)\n",
        "    def call(self, input_tensor, training=False):\n",
        "        x = self.conv1(input_tensor)\n",
        "        x = self.conv2(x)\n",
        "        x = self.batchnorm(x)\n",
        "        x = self.maxpool(x)\n",
        "        x = self.dropout(x)\n",
        "        return x"
      ],
      "metadata": {
        "id": "nUqlc-okpouf"
      },
      "execution_count": null,
      "outputs": []
    },
    {
      "cell_type": "code",
      "source": [
        "class DenseBlock(tf.keras.layers.Layer):\n",
        "    def __init__(self, units):\n",
        "        super().__init__()\n",
        "\n",
        "        self.dense1 = Dense(units = units, use_bias=False, kernel_regularizer=l2(0.0005),activation='relu')\n",
        "        self.batchnorm = BatchNormalization()\n",
        "\n",
        "    def call(self, input_tensor, training=False):\n",
        "        x = self.dense1(input_tensor)\n",
        "        x = self.batchnorm(x,training=training)\n",
        "        return x"
      ],
      "metadata": {
        "id": "cWyQT90xqUVo"
      },
      "execution_count": null,
      "outputs": []
    },
    {
      "cell_type": "code",
      "source": [
        "class MyModel(tf.keras.Model):\n",
        "\n",
        "    def __init__(self,num_classes=10):\n",
        "        super().__init__()\n",
        "        self.convblock1 = ConvBlock(32,5)\n",
        "        self.convblock2 = ConvBlock(64,5)\n",
        "        self.flatten = Flatten()\n",
        "        self.denseblock1 = DenseBlock(256)\n",
        "        self.denseblock2 = DenseBlock(128)\n",
        "        self.denseblock3 = DenseBlock(84)\n",
        "        self.dropout = Dropout(0.3)\n",
        "        self.outputs = Dense(units = num_classes, activation = 'softmax')\n",
        "    \n",
        "    def call(self, input_tensor, training=False):\n",
        "        x = self.convblock1(input_tensor)\n",
        "        x = self.convblock2(x)\n",
        "        \n",
        "        x = self.flatten(x)\n",
        "        x = self.denseblock1(x)\n",
        "        x = self.denseblock2(x)\n",
        "        x = self.denseblock3(x)\n",
        "        x = self.dropout(x)\n",
        "        x = self.outputs(x)\n",
        "        return x"
      ],
      "metadata": {
        "id": "yGPmU5cWqUYN"
      },
      "execution_count": null,
      "outputs": []
    },
    {
      "cell_type": "code",
      "source": [
        "model2 = MyModel(num_classes=10)\n",
        "model2.compile(loss='sparse_categorical_crossentropy', metrics=['accuracy'], optimizer= tf.keras.optimizers.Adam(learning_rate=0.01))"
      ],
      "metadata": {
        "id": "xgKYV7enqUb5"
      },
      "execution_count": null,
      "outputs": []
    },
    {
      "cell_type": "code",
      "source": [
        "model2.fit(X,y,epochs=50,callbacks=callback,validation_data=(X_valid, y_valid))"
      ],
      "metadata": {
        "id": "BhLerSAEqUew"
      },
      "execution_count": null,
      "outputs": []
    }
  ]
}